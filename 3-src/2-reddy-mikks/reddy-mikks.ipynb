{
 "cells": [
  {
   "cell_type": "markdown",
   "id": "trying-least",
   "metadata": {},
   "source": [
    "<div align=\"right\" style=\"text-align:right\"><a rel=\"license\" href=\"http://creativecommons.org/licenses/by-nc-nd/4.0/\"><img alt=\"Licença Creative Commons\" style=\"border-width:0; float:right\" src=\"https://i.creativecommons.org/l/by-nc-nd/4.0/88x31.png\" /></a><br><br><i>Prof. Marcelo de Souza</i><br>marcelo.desouza@udesc.br</div>"
   ]
  },
  {
   "cell_type": "markdown",
   "id": "sophisticated-threshold",
   "metadata": {},
   "source": [
    "# Modelo Reddy Mikks\n",
    "\n",
    "Programação linear com Pyomo.\n",
    "\n",
    "---\n",
    "\n",
    "Modelo **concreto** Reddy Mikks:\n",
    "\n",
    "$\n",
    "\\begin{aligned}\n",
    "    \\text{maximiza} \\quad & z = 5x_1 + 4x_2\\\\[.3em]\n",
    "    \\text{sujeito a} \\quad & 6x_1 + 4x_2 \\le 24\\\\\n",
    "              & x_1 + 2x_2 \\le 6\\\\\n",
    "              & -x_1 + x_2 \\le 1\\\\\n",
    "              & x_2 \\le 2\\\\\n",
    "              & x_1, x_2 \\ge 0\n",
    "\\end{aligned}\n",
    "$\n",
    "\n",
    "Veja a solução via método gráfico em https://www.desmos.com/calculator/no8uqdkm9g\n",
    "\n",
    "---"
   ]
  },
  {
   "cell_type": "markdown",
   "id": "3abced69",
   "metadata": {},
   "source": [
    "Preparação para execução no Google Colab"
   ]
  },
  {
   "cell_type": "code",
   "execution_count": null,
   "id": "71204272",
   "metadata": {},
   "outputs": [],
   "source": [
    "!pip install -qq pyomo\n",
    "!apt-get install -y -qq glpk-utils"
   ]
  },
  {
   "cell_type": "markdown",
   "id": "social-continent",
   "metadata": {},
   "source": [
    "Importação do Pyomo"
   ]
  },
  {
   "cell_type": "code",
   "execution_count": 1,
   "id": "integrated-dress",
   "metadata": {},
   "outputs": [],
   "source": [
    "from pyomo.environ import *"
   ]
  },
  {
   "cell_type": "markdown",
   "id": "italian-volunteer",
   "metadata": {},
   "source": [
    "Criação do modelo"
   ]
  },
  {
   "cell_type": "code",
   "execution_count": 2,
   "id": "collaborative-accommodation",
   "metadata": {},
   "outputs": [],
   "source": [
    "model = ConcreteModel()"
   ]
  },
  {
   "cell_type": "markdown",
   "id": "resistant-bolivia",
   "metadata": {},
   "source": [
    "Definição das variáveis de decisão"
   ]
  },
  {
   "cell_type": "code",
   "execution_count": 3,
   "id": "identified-riverside",
   "metadata": {},
   "outputs": [],
   "source": [
    "model.x = Var([1,2], domain = NonNegativeReals)"
   ]
  },
  {
   "cell_type": "markdown",
   "id": "parental-compound",
   "metadata": {},
   "source": [
    "Definição da função objetivo"
   ]
  },
  {
   "cell_type": "code",
   "execution_count": 4,
   "id": "minus-conversion",
   "metadata": {},
   "outputs": [],
   "source": [
    "model.obj = Objective(expr = 5 * model.x[1] + 4 * model.x[2], sense = maximize)"
   ]
  },
  {
   "cell_type": "markdown",
   "id": "curious-muslim",
   "metadata": {},
   "source": [
    "Definição das restrições"
   ]
  },
  {
   "cell_type": "code",
   "execution_count": 5,
   "id": "allied-municipality",
   "metadata": {},
   "outputs": [],
   "source": [
    "model.con1 = Constraint(expr = 6 * model.x[1] + 4 * model.x[2] <= 24)\n",
    "model.con2 = Constraint(expr = model.x[1] + 2 * model.x[2] <= 6)\n",
    "model.con3 = Constraint(expr = -model.x[1] + model.x[2] <= 1)\n",
    "model.con4 = Constraint(expr = model.x[2] <= 2)\n",
    "#model.con5 = Constraint(expr = model.x[1] + model.x[2] >= 5)"
   ]
  },
  {
   "cell_type": "markdown",
   "id": "appointed-martial",
   "metadata": {},
   "source": [
    "Solução e apresentação dos resultados\n",
    "+ O status o término com sucesso ou não\n",
    "+ O critério de terminação mostra o tipo de solução do problema"
   ]
  },
  {
   "cell_type": "code",
   "execution_count": 6,
   "id": "agreed-accessory",
   "metadata": {},
   "outputs": [
    {
     "name": "stdout",
     "output_type": "stream",
     "text": [
      "Status: ok\n",
      "Termination criterion: optimal\n",
      "Optimal solution cost: 21.0\n",
      "Optimal solution is x1 = 3.0 and x2 = 1.5\n"
     ]
    }
   ],
   "source": [
    "opt = SolverFactory('glpk', executable='/usr/bin/glpsol')\n",
    "results = opt.solve(model)\n",
    "#results = opt.solve(model, tee = True)\n",
    "\n",
    "print('Status:', results.solver.status)\n",
    "print('Termination criterion:', results.solver.termination_condition)\n",
    "if results.solver.termination_condition == 'optimal':\n",
    "    print('Optimal solution cost:', model.obj.expr())\n",
    "    print('Optimal solution is x1 =', model.x[1].value, 'and x2 =', model.x[2].value)"
   ]
  }
 ],
 "metadata": {
  "kernelspec": {
   "display_name": "Python 3 (ipykernel)",
   "language": "python",
   "name": "python3"
  },
  "language_info": {
   "codemirror_mode": {
    "name": "ipython",
    "version": 3
   },
   "file_extension": ".py",
   "mimetype": "text/x-python",
   "name": "python",
   "nbconvert_exporter": "python",
   "pygments_lexer": "ipython3",
   "version": "3.8.10"
  }
 },
 "nbformat": 4,
 "nbformat_minor": 5
}
