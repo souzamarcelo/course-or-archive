{
 "cells": [
  {
   "cell_type": "markdown",
   "id": "geological-acting",
   "metadata": {},
   "source": [
    "<div align=\"right\" style=\"text-align:right\"><a rel=\"license\" href=\"http://creativecommons.org/licenses/by-nc-nd/4.0/\"><img alt=\"Licença Creative Commons\" style=\"border-width:0; float:right\" src=\"https://i.creativecommons.org/l/by-nc-nd/4.0/88x31.png\" /></a><br><br><i>Prof. Marcelo de Souza</i><br>marcelo.desouza@udesc.br</div>"
   ]
  },
  {
   "cell_type": "markdown",
   "id": "electric-pointer",
   "metadata": {},
   "source": [
    "# Problema da Mochila (Knapsack Problem)\n",
    "\n",
    "O problema da mochila é um problema de otimização combinatória. O nome dá-se devido ao modelo de uma situação em que é necessário preencher uma mochila com objetos de diferentes pesos e valores. O objetivo é que se preencha a mochila com o maior valor possível, não ultrapassando o peso máximo. (*Wikipedia*)\n",
    "\n",
    "---\n",
    "\n",
    "**Formulação:**\n",
    "\n",
    "Para $n$ itens com valores $v_i$ e pesos $p_i$, $i \\in [n]$, e capacidade $P$,\n",
    "\n",
    "$$\n",
    "\\begin{aligned}\n",
    "    \\text{maximiza} \\quad & \\sum_{i \\in [n]} v_{i} x_{i}\\\\[.3em]\n",
    "    \\text{sujeito a} \\quad & \\sum_{i \\in [n]} p_{i} x_{i} \\le P\\\\\n",
    "              & x_{i} \\in \\{0, 1\\}, \\quad \\forall i \\in [n]\\\\\n",
    "\\end{aligned}\n",
    "$$\n",
    "\n",
    "---"
   ]
  },
  {
   "cell_type": "markdown",
   "id": "5d3cc2df",
   "metadata": {},
   "source": [
    "Preparação para execução no Google Colab"
   ]
  },
  {
   "cell_type": "code",
   "execution_count": 1,
   "id": "e418d0c6",
   "metadata": {},
   "outputs": [
    {
     "name": "stdout",
     "output_type": "stream",
     "text": [
      "E: Não foi possível abrir arquivo de trava /var/lib/dpkg/lock-frontend - open (13: Permission denied)\r\n",
      "E: Unable to acquire the dpkg frontend lock (/var/lib/dpkg/lock-frontend), are you root?\r\n"
     ]
    }
   ],
   "source": [
    "!pip install -qq pyomo\n",
    "!apt-get install -y -qq glpk-utils"
   ]
  },
  {
   "cell_type": "code",
   "execution_count": 2,
   "id": "72405dfd",
   "metadata": {},
   "outputs": [],
   "source": [
    "from pyomo.environ import *\n",
    "\n",
    "# Criação do modelo\n",
    "model = ConcreteModel()\n",
    "\n",
    "n = 20\n",
    "v = [4, 5, 1, 2, 7, 8, 6, 4, 2, 3, 8, 6, 4, 5, 2, 1, 3, 6, 7, 9]\n",
    "p = [5, 2, 1, 4, 8, 7, 9, 5, 4, 1, 6, 7, 4, 8, 9, 4, 3, 2, 6, 8]\n",
    "P = 35\n",
    "\n",
    "# Variáveis de decisão\n",
    "model.x = Var(range(n), domain = Boolean)"
   ]
  },
  {
   "cell_type": "code",
   "execution_count": 3,
   "id": "timely-dispatch",
   "metadata": {},
   "outputs": [
    {
     "name": "stdout",
     "output_type": "stream",
     "text": [
      "# ==========================================================\n",
      "# = Solver Results                                         =\n",
      "# ==========================================================\n",
      "# ----------------------------------------------------------\n",
      "#   Problem Information\n",
      "# ----------------------------------------------------------\n",
      "Problem: \n",
      "- Name: unknown\n",
      "  Lower bound: 49.0\n",
      "  Upper bound: 49.0\n",
      "  Number of objectives: 1\n",
      "  Number of constraints: 2\n",
      "  Number of variables: 21\n",
      "  Number of nonzeros: 21\n",
      "  Sense: maximize\n",
      "# ----------------------------------------------------------\n",
      "#   Solver Information\n",
      "# ----------------------------------------------------------\n",
      "Solver: \n",
      "- Status: ok\n",
      "  Termination condition: optimal\n",
      "  Statistics: \n",
      "    Branch and bound: \n",
      "      Number of bounded subproblems: 3\n",
      "      Number of created subproblems: 3\n",
      "  Error rc: 0\n",
      "  Time: 0.009789228439331055\n",
      "# ----------------------------------------------------------\n",
      "#   Solution Information\n",
      "# ----------------------------------------------------------\n",
      "Solution: \n",
      "- number of solutions: 0\n",
      "  number of solutions displayed: 0\n",
      "0.0\n",
      "1.0\n",
      "0.0\n",
      "0.0\n",
      "0.0\n",
      "1.0\n",
      "0.0\n",
      "0.0\n",
      "0.0\n",
      "1.0\n",
      "1.0\n",
      "0.0\n",
      "0.0\n",
      "0.0\n",
      "0.0\n",
      "0.0\n",
      "1.0\n",
      "1.0\n",
      "1.0\n",
      "1.0\n",
      "\n",
      "49.0\n"
     ]
    }
   ],
   "source": [
    "# Função objetivo\n",
    "model.obj = Objective(expr = sum([v[i] * model.x[i] for i in range(n)]), sense = maximize)\n",
    "\n",
    "# Restrições\n",
    "model.con1 = Constraint(expr = sum([p[i] * model.x[i] for i in range(n)]) <= P)\n",
    "\n",
    "# Solução\n",
    "opt = SolverFactory('glpk', executable='/usr/bin/glpsol')\n",
    "opt.solve(model, timelimit = 10).write()\n",
    "for i in range(n):\n",
    "    print(model.x[i]())\n",
    "print()\n",
    "print(model.obj.expr())"
   ]
  }
 ],
 "metadata": {
  "kernelspec": {
   "display_name": "Python 3 (ipykernel)",
   "language": "python",
   "name": "python3"
  },
  "language_info": {
   "codemirror_mode": {
    "name": "ipython",
    "version": 3
   },
   "file_extension": ".py",
   "mimetype": "text/x-python",
   "name": "python",
   "nbconvert_exporter": "python",
   "pygments_lexer": "ipython3",
   "version": "3.8.10"
  }
 },
 "nbformat": 4,
 "nbformat_minor": 5
}
