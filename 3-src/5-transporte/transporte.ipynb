{
 "cells": [
  {
   "cell_type": "markdown",
   "id": "geological-acting",
   "metadata": {},
   "source": [
    "<div align=\"right\" style=\"text-align:right\"><a rel=\"license\" href=\"http://creativecommons.org/licenses/by-nc-nd/4.0/\"><img alt=\"Licença Creative Commons\" style=\"border-width:0; float:right\" src=\"https://i.creativecommons.org/l/by-nc-nd/4.0/88x31.png\" /></a><br><br><i>Prof. Marcelo de Souza</i><br>marcelo.desouza@udesc.br</div>"
   ]
  },
  {
   "cell_type": "markdown",
   "id": "electric-pointer",
   "metadata": {},
   "source": [
    "# Problema do transporte (Hitchcock)\n",
    "\n",
    "Programação linear com Pyomo.\n",
    "\n",
    "---\n",
    "\n",
    "Uma empresa tem $m$ depósitos, cada um com estoque $a_i$, $i \\in [m]$ toneladas de determinado produto. Há pedidos de $n$ clientes de $b_j$, $j \\in [n]$ toneladas do produto. O transporte de uma tonelada do produto de um depósito $i$ para um cliente $j$ custa $c_{ij}$.\n",
    "\n",
    "O problema do transporte consiste em determinar o esquema de transporte de menor custo para atender aos pedidos.\n",
    "\n",
    "---"
   ]
  },
  {
   "cell_type": "markdown",
   "id": "c68a0705",
   "metadata": {},
   "source": [
    "Consideremos uma instância concreta do problema, representada pelo grafo abaixo (esquerda). Os valores dos vértices definem o estoque dos depósitos e a demanda dos clientes. Os pesos nas arestas indicam o custo de transporte dos depósitos aos clientes.\n",
    "\n",
    "<img src=\"./transporte.png\" width=\"500px\"/>\n",
    "\n",
    "O lado direito da figura apresenta uma solução para a instância, onde os arcos representam o transporte do produto e seus pesos indicam a quantidade transportada.\n",
    "\n",
    "***"
   ]
  },
  {
   "cell_type": "markdown",
   "id": "0ac4557e",
   "metadata": {},
   "source": [
    "Preparação para execução no Google Colab"
   ]
  },
  {
   "cell_type": "code",
   "execution_count": null,
   "id": "2a1ec208",
   "metadata": {},
   "outputs": [],
   "source": [
    "!pip install -qq pyomo\n",
    "!apt-get install -y -qq glpk-utils"
   ]
  },
  {
   "cell_type": "markdown",
   "id": "5ef8b58e",
   "metadata": {},
   "source": [
    "Podemos construir um modelo para resolver a instância acima. Para isso definimos:\n",
    "+ Variáveis de decisão $x_{ij}$ que determinam a quantidade transportada do depósito $i$ ao cliente $j$;\n",
    "+ Restrições de estoque, que limitam a quantidade que pode ser transportada de cada depósito;\n",
    "+ Restrições de demanda, que estabelecem a quantidade que cada cliente deve receber;\n",
    "+ Adicionalmente, restringimos o transporte de pares {depósito, cliente} onde não há previsão de transporte."
   ]
  },
  {
   "cell_type": "code",
   "execution_count": 1,
   "id": "timely-dispatch",
   "metadata": {},
   "outputs": [
    {
     "name": "stdout",
     "output_type": "stream",
     "text": [
      "# ==========================================================\n",
      "# = Solver Results                                         =\n",
      "# ==========================================================\n",
      "# ----------------------------------------------------------\n",
      "#   Problem Information\n",
      "# ----------------------------------------------------------\n",
      "Problem: \n",
      "- Name: unknown\n",
      "  Lower bound: 46.0\n",
      "  Upper bound: 46.0\n",
      "  Number of objectives: 1\n",
      "  Number of constraints: 9\n",
      "  Number of variables: 10\n",
      "  Number of nonzeros: 21\n",
      "  Sense: minimize\n",
      "# ----------------------------------------------------------\n",
      "#   Solver Information\n",
      "# ----------------------------------------------------------\n",
      "Solver: \n",
      "- Status: ok\n",
      "  Termination condition: optimal\n",
      "  Statistics: \n",
      "    Branch and bound: \n",
      "      Number of bounded subproblems: 0\n",
      "      Number of created subproblems: 0\n",
      "  Error rc: 0\n",
      "  Time: 0.0073544979095458984\n",
      "# ----------------------------------------------------------\n",
      "#   Solution Information\n",
      "# ----------------------------------------------------------\n",
      "Solution: \n",
      "- number of solutions: 0\n",
      "  number of solutions displayed: 0\n",
      "\n",
      "Custo total: 46.0\n",
      "1 --> 1: 2.0\n",
      "1 --> 2: 3.0\n",
      "1 --> 3: 0.0\n",
      "2 --> 1: 5.0\n",
      "2 --> 2: 0.0\n",
      "2 --> 3: 2.0\n",
      "3 --> 1: 0.0\n",
      "3 --> 2: 0.0\n",
      "3 --> 3: 3.0\n"
     ]
    }
   ],
   "source": [
    "from pyomo.environ import *\n",
    "\n",
    "# Criação do modelo\n",
    "model = ConcreteModel()\n",
    "\n",
    "# Variáveis de decisão\n",
    "model.x11 = Var(domain = NonNegativeReals)\n",
    "model.x12 = Var(domain = NonNegativeReals)\n",
    "model.x13 = Var(domain = NonNegativeReals)\n",
    "model.x21 = Var(domain = NonNegativeReals)\n",
    "model.x22 = Var(domain = NonNegativeReals)\n",
    "model.x23 = Var(domain = NonNegativeReals)\n",
    "model.x31 = Var(domain = NonNegativeReals)\n",
    "model.x32 = Var(domain = NonNegativeReals)\n",
    "model.x33 = Var(domain = NonNegativeReals)\n",
    "\n",
    "# Função objetivo\n",
    "#model.obj = Objective(expr = 3 * model.x11 + 1 * model.x12 + 100 * model.x13 + 4 * model.x21 + 2 * model.x22 + 4 * model.x23 + 100 * model.x31 + 3 * model.x32 + 3 * model.x33, sense = minimize)\n",
    "model.obj = Objective(expr = 3 * model.x11 + 1 * model.x12 + 4 * model.x21 + 2 * model.x22 + 4 * model.x23 + 3 * model.x32 + 3 * model.x33, sense = minimize)\n",
    "\n",
    "# Restrições de estoque\n",
    "model.con1 = Constraint(expr = model.x11 + model.x12 + model.x13 <= 5)\n",
    "model.con2 = Constraint(expr = model.x21 + model.x22 + model.x23 <= 7)\n",
    "model.con3 = Constraint(expr = model.x31 + model.x32 + model.x33 <= 3)\n",
    "\n",
    "# Restrições de demanda\n",
    "model.con4 = Constraint(expr = model.x11 + model.x21 + model.x31 == 7)\n",
    "model.con5 = Constraint(expr = model.x12 + model.x22 + model.x32 == 3)\n",
    "model.con6 = Constraint(expr = model.x13 + model.x23 + model.x33 == 5)\n",
    "\n",
    "# Restrições de pares depósito x cliente\n",
    "model.con7 = Constraint(expr = model.x13 == 0)\n",
    "model.con8 = Constraint(expr = model.x31 == 0)\n",
    "\n",
    "# Solução\n",
    "opt = SolverFactory('glpk', executable='/usr/bin/glpsol')\n",
    "opt.solve(model).write()\n",
    "print()\n",
    "print('Custo total:', model.obj())\n",
    "print('1 --> 1:', model.x11())\n",
    "print('1 --> 2:', model.x12())\n",
    "print('1 --> 3:', model.x13())\n",
    "print('2 --> 1:', model.x21())\n",
    "print('2 --> 2:', model.x22())\n",
    "print('2 --> 3:', model.x23())\n",
    "print('3 --> 1:', model.x31())\n",
    "print('3 --> 2:', model.x32())\n",
    "print('3 --> 3:', model.x33())"
   ]
  },
  {
   "cell_type": "markdown",
   "id": "3e458d78",
   "metadata": {},
   "source": [
    "***"
   ]
  },
  {
   "cell_type": "markdown",
   "id": "a1beaefb",
   "metadata": {},
   "source": [
    "Também podemos criar um modelo genérico para resolver qualquer instância do problema do transporte:\n",
    "\n",
    "$$\n",
    "\\begin{aligned}\n",
    "    \\text{minimiza} \\quad z = & \\sum_{i \\in [m], j \\in [n]} c_{ij} x_{ij}\\\\[.3em]\n",
    "    \\text{sujeito a} \\quad & \\sum_{j \\in [n]} x_{ij} \\le a_i, \\quad\\text{para todo fornecedor }i \\in [m]\\\\\n",
    "              & \\sum_{i \\in [m]} x_{ij} = b_j, \\quad\\text{para todo cliente }j \\in [n]\\\\\n",
    "              & x_{ij} \\ge 0, \\quad\\text{para todo fornecedor }i \\in [m]\\text{ e todo cliente }j \\in [n]\\\\\n",
    "\\end{aligned}\n",
    "$$"
   ]
  },
  {
   "cell_type": "markdown",
   "id": "334fb4c3",
   "metadata": {},
   "source": [
    "Dados:"
   ]
  },
  {
   "cell_type": "code",
   "execution_count": 2,
   "id": "3efc9769",
   "metadata": {},
   "outputs": [],
   "source": [
    "m = 3                # fornecedores\n",
    "n = 3                # clientes\n",
    "a = [5, 7, 3]        # estoques\n",
    "b = [7, 3, 5]        # demandas\n",
    "c = [[3, 1, 100],    # custos\n",
    "     [4, 2, 4],\n",
    "     [100, 3, 3]]"
   ]
  },
  {
   "cell_type": "markdown",
   "id": "72fb1a71",
   "metadata": {},
   "source": [
    "Implementação do modelo:"
   ]
  },
  {
   "cell_type": "code",
   "execution_count": 3,
   "id": "515749fe",
   "metadata": {},
   "outputs": [
    {
     "name": "stdout",
     "output_type": "stream",
     "text": [
      "# ==========================================================\n",
      "# = Solver Results                                         =\n",
      "# ==========================================================\n",
      "# ----------------------------------------------------------\n",
      "#   Problem Information\n",
      "# ----------------------------------------------------------\n",
      "Problem: \n",
      "- Name: unknown\n",
      "  Lower bound: 46.0\n",
      "  Upper bound: 46.0\n",
      "  Number of objectives: 1\n",
      "  Number of constraints: 7\n",
      "  Number of variables: 10\n",
      "  Number of nonzeros: 19\n",
      "  Sense: minimize\n",
      "# ----------------------------------------------------------\n",
      "#   Solver Information\n",
      "# ----------------------------------------------------------\n",
      "Solver: \n",
      "- Status: ok\n",
      "  Termination condition: optimal\n",
      "  Statistics: \n",
      "    Branch and bound: \n",
      "      Number of bounded subproblems: 0\n",
      "      Number of created subproblems: 0\n",
      "  Error rc: 0\n",
      "  Time: 0.028554677963256836\n",
      "# ----------------------------------------------------------\n",
      "#   Solution Information\n",
      "# ----------------------------------------------------------\n",
      "Solution: \n",
      "- number of solutions: 0\n",
      "  number of solutions displayed: 0\n",
      "Custo total: 46.0\n",
      "1 --> 1 : 5.0\n",
      "1 --> 2 : 0.0\n",
      "1 --> 3 : 0.0\n",
      "2 --> 1 : 2.0\n",
      "2 --> 2 : 3.0\n",
      "2 --> 3 : 2.0\n",
      "3 --> 1 : 0.0\n",
      "3 --> 2 : 0.0\n",
      "3 --> 3 : 3.0\n"
     ]
    }
   ],
   "source": [
    "from pyomo.environ import *\n",
    "\n",
    "# Criação do modelo\n",
    "model = ConcreteModel()\n",
    "\n",
    "# Variáveis de decisão: para cada par depósito x cliente\n",
    "model.x = Var([i for i in range(m)], [j for j in range(n)], domain = NonNegativeReals)\n",
    "\n",
    "def objective_function(model):\n",
    "    result = 0\n",
    "    for i in range(m):\n",
    "        for j in range(n):\n",
    "            result += model.x[i,j] * c[i][j]\n",
    "    return result\n",
    "\n",
    "# Função objetivo\n",
    "#model.obj = Objective(expr = sum(model.x[i,j]*c[i][j] for i in range(m) for j in range(n)))\n",
    "model.obj = Objective(rule = objective_function)\n",
    "\n",
    "# Restrições\n",
    "model.cons = ConstraintList()\n",
    "\n",
    "for i in range(m):\n",
    "    model.cons.add(expr = sum(model.x[i,j] for j in range(n)) <= a[i])\n",
    "\n",
    "for j in range(n):\n",
    "    model.cons.add(expr = sum(model.x[i,j] for i in range(m)) == b[j])\n",
    "\n",
    "# Solução\n",
    "solver = SolverFactory('glpk')\n",
    "solver.solve(model).write()\n",
    "\n",
    "print('Custo total:', model.obj())\n",
    "for i in range(m):\n",
    "    for j in range(n):\n",
    "        print(i + 1, '-->', j + 1, ':', model.x[i,j]())"
   ]
  }
 ],
 "metadata": {
  "kernelspec": {
   "display_name": "Python 3 (ipykernel)",
   "language": "python",
   "name": "python3"
  },
  "language_info": {
   "codemirror_mode": {
    "name": "ipython",
    "version": 3
   },
   "file_extension": ".py",
   "mimetype": "text/x-python",
   "name": "python",
   "nbconvert_exporter": "python",
   "pygments_lexer": "ipython3",
   "version": "3.8.10"
  }
 },
 "nbformat": 4,
 "nbformat_minor": 5
}
