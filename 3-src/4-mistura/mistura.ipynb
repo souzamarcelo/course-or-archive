{
 "cells": [
  {
   "cell_type": "markdown",
   "id": "geological-acting",
   "metadata": {},
   "source": [
    "<div align=\"right\" style=\"text-align:right\"><a rel=\"license\" href=\"http://creativecommons.org/licenses/by-nc-nd/4.0/\"><img alt=\"Licença Creative Commons\" style=\"border-width:0; float:right\" src=\"https://i.creativecommons.org/l/by-nc-nd/4.0/88x31.png\" /></a><br><br><i>Prof. Marcelo de Souza</i><br>marcelo.desouza@udesc.br</div>"
   ]
  },
  {
   "cell_type": "markdown",
   "id": "electric-pointer",
   "metadata": {},
   "source": [
    "# Problema da mistura\n",
    "\n",
    "Programação linear com Pyomo.\n",
    "\n",
    "---\n",
    "\n",
    "Uma cervejaria precisa atender um pedido de 100 litros de cerveja com teor alcoólico de 4%. A cervejaria produz uma cerveja do tipo A, com teor alcoólico de 4,5% e custo de \\\\$0,32 por litro, e uma cerveja do tipo B, com teor alcoólico de 3,7% e custo de $0,25 por litro. Além disso, água é usada na mistura com custo de \\\\$0,05 por litro. Encontre a mistura de menor custo que atenda os requisitos do cliente.\n",
    "\n",
    "Modelo:\n",
    "\n",
    "$\n",
    "\\begin{aligned}\n",
    "    \\text{minimiza} \\quad & z = 0,32x_1 + 0,25x_2 + 0,05x_3\\\\[.3em]\n",
    "    \\text{sujeito a} \\quad & x_1 + x_2 + x_3 = 100\\\\\n",
    "              & 0,045x_1 + 0,037x_2 = 4\\\\\n",
    "              & x_1, x_2, x_3 \\ge 0\n",
    "\\end{aligned}\n",
    "$\n",
    "\n",
    "---"
   ]
  },
  {
   "cell_type": "markdown",
   "id": "1d84b342",
   "metadata": {},
   "source": [
    "Preparação para execução no Google Colab"
   ]
  },
  {
   "cell_type": "code",
   "execution_count": null,
   "id": "0911665f",
   "metadata": {},
   "outputs": [],
   "source": [
    "!pip install -qq pyomo\n",
    "!apt-get install -y -qq glpk-utils"
   ]
  },
  {
   "cell_type": "code",
   "execution_count": 1,
   "id": "timely-dispatch",
   "metadata": {},
   "outputs": [
    {
     "name": "stdout",
     "output_type": "stream",
     "text": [
      "SOLUÇÃO ÓTIMA\n",
      "Cerveja A: 37.5\n",
      "Cerveja B: 62.5\n",
      "Água: 0.0\n",
      "Custo: 27.625\n"
     ]
    }
   ],
   "source": [
    "from pyomo.environ import *\n",
    "\n",
    "# Criação do modelo\n",
    "model = ConcreteModel()\n",
    "\n",
    "# Variáveis de decisão\n",
    "model.x1 = Var(domain = NonNegativeReals)\n",
    "model.x2 = Var(domain = NonNegativeReals)\n",
    "model.x3 = Var(domain = NonNegativeReals)\n",
    "\n",
    "# Função objetivo\n",
    "model.obj = Objective(expr = 0.32 * model.x1 + 0.25 * model.x2 + 0.05 * model.x3, sense = minimize)\n",
    "\n",
    "# Restrições\n",
    "model.con1 = Constraint(expr = model.x1 + model.x2 + model.x3 == 100)\n",
    "model.con2 = Constraint(expr = 0.045 * model.x1 + 0.037 * model.x2 == 4)\n",
    "\n",
    "# Solução\n",
    "opt = SolverFactory('glpk', executable='/usr/bin/glpsol')\n",
    "opt.solve(model)\n",
    "print('SOLUÇÃO ÓTIMA')\n",
    "print('Cerveja A:', model.x1())\n",
    "print('Cerveja B:', model.x2())\n",
    "print('Água:', model.x3())\n",
    "print('Custo:', model.obj())"
   ]
  },
  {
   "cell_type": "markdown",
   "id": "whole-magic",
   "metadata": {},
   "source": [
    "---"
   ]
  },
  {
   "cell_type": "markdown",
   "id": "plain-stevens",
   "metadata": {},
   "source": [
    "Na sequência, vamos generalizar o modelo da mistura acima, permitindo a determinação da mistura ótima para qualquer número de componentes (cervejas e outros agentes de mistura, com seus respectivos teores alcoólicos e custos), volume de produção e teor alcoólico desejados. Para isso, definimos algumas variáveis:\n",
    "\n",
    "+ $V$ é o volume do pedido (em litros de cerveja);\n",
    "+ $\\bar{A}$ é o teor alcoólico desejado;\n",
    "+ $C$ é o conjunto de componentes (tipos de cerveja, água, ...).\n",
    "\n",
    "Definimos variáveis para representar o custo por litro e o teor alcoólico de cada componente:\n",
    "\n",
    "+ $P_c$ é o preço de cada componente $c \\in C$;\n",
    "+ $A_c$ é o teor alcoólico de cada componente $c \\in C$.\n",
    "\n",
    "Finalmente, definimos as variáveis de decisão como a quantidade de litros de cada componente na mistura:\n",
    "\n",
    "$\\qquad\\qquad x_c, \\forall c \\in C$\n",
    "\n",
    "Com isso, chegamos no seguinte modelo genérico:\n",
    "\n",
    "$\n",
    "\\begin{aligned}\n",
    "    \\text{minimiza} \\quad & z = \\sum_{c \\in C} x_c P_c\\\\[.3em]\n",
    "    \\text{sujeito a} \\quad & \\sum_{c \\in C} x_c = V\\\\\n",
    "              & \\sum_{c \\in C} x_c A_c = \\bar{A}V\\\\\n",
    "              & x_c \\ge 0, \\forall c \\in C\n",
    "\\end{aligned}\n",
    "$\n",
    "\n",
    "---"
   ]
  },
  {
   "cell_type": "markdown",
   "id": "hungarian-university",
   "metadata": {},
   "source": [
    "Para implementar o modelo genérico, primeiro definimos os dados do problema, i.e. os valores das variáveis previamente definidas."
   ]
  },
  {
   "cell_type": "code",
   "execution_count": 2,
   "id": "lightweight-chest",
   "metadata": {},
   "outputs": [],
   "source": [
    "# Volume do pedido\n",
    "V = 100\n",
    "\n",
    "# Teor alcoólico desejado\n",
    "A = 0.04\n",
    "\n",
    "components = {\n",
    "    'Cerveja A': {'A': 0.045, 'P': 0.32},\n",
    "    'Cerveja B': {'A': 0.037, 'P': 0.25},\n",
    "    'Água':      {'A': 0.000, 'P': 0.05},\n",
    "    #'Vinho':     {'A': 0.083 ,'P': 0.41},\n",
    "}"
   ]
  },
  {
   "cell_type": "markdown",
   "id": "treated-security",
   "metadata": {},
   "source": [
    "Acessamos os dados da seguinte forma:"
   ]
  },
  {
   "cell_type": "code",
   "execution_count": 3,
   "id": "mineral-being",
   "metadata": {
    "scrolled": true
   },
   "outputs": [
    {
     "name": "stdout",
     "output_type": "stream",
     "text": [
      "0.037\n",
      "0.25\n",
      "dict_keys(['Cerveja A', 'Cerveja B', 'Água'])\n"
     ]
    }
   ],
   "source": [
    "c = 'Cerveja B' # Componente\n",
    "print(components[c]['A']) # Teor alcoólico\n",
    "print(components[c]['P']) # Preço\n",
    "\n",
    "# O conjunto de componentes pode ser obtido pelas chaves do dicionário de dados\n",
    "print(components.keys())"
   ]
  },
  {
   "cell_type": "markdown",
   "id": "educated-summer",
   "metadata": {},
   "source": [
    "Finalmente, implementamos e resolvemos o modelo da seguinte forma:"
   ]
  },
  {
   "cell_type": "code",
   "execution_count": 4,
   "id": "mature-crack",
   "metadata": {},
   "outputs": [
    {
     "name": "stdout",
     "output_type": "stream",
     "text": [
      "Mistura ótima\n",
      "> Cerveja A : 37.5 litros\n",
      "> Cerveja B : 62.5 litros\n",
      "> Água : 0.0 litros\n",
      "\n",
      "Volume = 100.0 litros\n",
      "Custo = $ 27.625\n"
     ]
    }
   ],
   "source": [
    "# Lista de componentes\n",
    "C = components.keys()\n",
    "\n",
    "# Modelo\n",
    "model = ConcreteModel()\n",
    "\n",
    "# Variáveis de decisão: uma para cada componente\n",
    "model.x = Var(C, domain = NonNegativeReals)\n",
    "\n",
    "# Função objetivo\n",
    "model.cost = Objective(expr = sum(model.x[c] * components[c]['P'] for c in C))\n",
    "\n",
    "# Restrições\n",
    "model.vol = Constraint(expr = sum(model.x[c] for c in C) == V)\n",
    "model.alc = Constraint(expr = sum(model.x[c] * components[c]['A'] for c in C) == A * V)\n",
    "\n",
    "# Solução\n",
    "solver = SolverFactory('glpk')\n",
    "solver.solve(model)\n",
    "\n",
    "print('Mistura ótima')\n",
    "for c in C:\n",
    "    print('>', c, ':', model.x[c](), 'litros')\n",
    "print()\n",
    "print('Volume =', model.vol(), 'litros')\n",
    "print('Custo = $', model.cost())"
   ]
  }
 ],
 "metadata": {
  "kernelspec": {
   "display_name": "Python 3 (ipykernel)",
   "language": "python",
   "name": "python3"
  },
  "language_info": {
   "codemirror_mode": {
    "name": "ipython",
    "version": 3
   },
   "file_extension": ".py",
   "mimetype": "text/x-python",
   "name": "python",
   "nbconvert_exporter": "python",
   "pygments_lexer": "ipython3",
   "version": "3.8.10"
  }
 },
 "nbformat": 4,
 "nbformat_minor": 5
}
