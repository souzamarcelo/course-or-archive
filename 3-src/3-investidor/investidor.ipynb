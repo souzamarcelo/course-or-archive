{
 "cells": [
  {
   "cell_type": "markdown",
   "id": "geological-acting",
   "metadata": {},
   "source": [
    "<div align=\"right\" style=\"text-align:right\"><a rel=\"license\" href=\"http://creativecommons.org/licenses/by-nc-nd/4.0/\"><img alt=\"Licença Creative Commons\" style=\"border-width:0; float:right\" src=\"https://i.creativecommons.org/l/by-nc-nd/4.0/88x31.png\" /></a><br><br><i>Prof. Marcelo de Souza</i><br>marcelo.desouza@udesc.br</div>"
   ]
  },
  {
   "cell_type": "markdown",
   "id": "electric-pointer",
   "metadata": {},
   "source": [
    "# O investidor\n",
    "\n",
    "Programação linear com Pyomo.\n",
    "\n",
    "---\n",
    "\n",
    "Um indivíduo quer investir $ 5.000 no próximo ano em dois tipos de investimento: o investimento A rende 5% e o investimento B rende 8%. Pesquisas de mercado recomendam uma alocação de no mínimo 25% em A e no máximo 50% em B. Além do mais, o investimento em A deve ser no mínimo a metade do investimento em B. Construa o programa linear para calcular o melhor plano de investimento.\n",
    "\n",
    "Modelo:\n",
    "\n",
    "$\n",
    "\\begin{aligned}\n",
    "    \\text{maximiza} \\quad & z = 0,05A + 0,08B\\\\[.3em]\n",
    "    \\text{sujeito a} \\quad & A + B \\le 5000\\\\\n",
    "              & 0,75A - 0,25B \\ge 0\\\\\n",
    "              & -0,5A + 0,5B \\le 0\\\\\n",
    "              & A - 0,5B \\ge 0\\\\\n",
    "              & A, B \\ge 0\n",
    "\\end{aligned}\n",
    "$\n",
    "\n",
    "---"
   ]
  },
  {
   "cell_type": "markdown",
   "id": "a4fc4958",
   "metadata": {},
   "source": [
    "Preparação para execução no Google Colab"
   ]
  },
  {
   "cell_type": "code",
   "execution_count": null,
   "id": "94fd2b67",
   "metadata": {},
   "outputs": [],
   "source": [
    "!pip install -qq pyomo\n",
    "!apt-get install -y -qq glpk-utils"
   ]
  },
  {
   "cell_type": "code",
   "execution_count": 1,
   "id": "timely-dispatch",
   "metadata": {},
   "outputs": [
    {
     "name": "stdout",
     "output_type": "stream",
     "text": [
      "# ==========================================================\n",
      "# = Solver Results                                         =\n",
      "# ==========================================================\n",
      "# ----------------------------------------------------------\n",
      "#   Problem Information\n",
      "# ----------------------------------------------------------\n",
      "Problem: \n",
      "- Name: unknown\n",
      "  Lower bound: 325.0\n",
      "  Upper bound: 325.0\n",
      "  Number of objectives: 1\n",
      "  Number of constraints: 5\n",
      "  Number of variables: 3\n",
      "  Number of nonzeros: 9\n",
      "  Sense: maximize\n",
      "# ----------------------------------------------------------\n",
      "#   Solver Information\n",
      "# ----------------------------------------------------------\n",
      "Solver: \n",
      "- Status: ok\n",
      "  Termination condition: optimal\n",
      "  Statistics: \n",
      "    Branch and bound: \n",
      "      Number of bounded subproblems: 0\n",
      "      Number of created subproblems: 0\n",
      "  Error rc: 0\n",
      "  Time: 0.0073778629302978516\n",
      "# ----------------------------------------------------------\n",
      "#   Solution Information\n",
      "# ----------------------------------------------------------\n",
      "Solution: \n",
      "- number of solutions: 0\n",
      "  number of solutions displayed: 0\n",
      "\n",
      "\n",
      "SOLUÇÃO ÓTIMA\n",
      "Investimento A: 2500.0\n",
      "Investimento B: 2500.0\n",
      "Rendimento: 325.0\n"
     ]
    }
   ],
   "source": [
    "from pyomo.environ import *\n",
    "\n",
    "# Criação do modelo\n",
    "model = ConcreteModel()\n",
    "\n",
    "# Variáveis de decisão\n",
    "model.a = Var(domain = NonNegativeReals)\n",
    "model.b = Var(domain = NonNegativeReals)\n",
    "\n",
    "# Função objetivo\n",
    "def objective_function(model):\n",
    "    return 0.05 * model.a + 0.08 * model.b\n",
    "\n",
    "model.obj = Objective(rule = objective_function, sense = maximize)\n",
    "\n",
    "# Restrições\n",
    "def amount(model):\n",
    "    return model.a + model.b <= 5000\n",
    "\n",
    "def max_a(model):\n",
    "    return 0.75 * model.a - 0.25 * model.b >= 0\n",
    "\n",
    "def max_b(model):\n",
    "    return -0.5 * model.a + 0.5 * model.b <= 0\n",
    "\n",
    "def proportion(model):\n",
    "    return model.a - 0.5 * model.b >= 0\n",
    "\n",
    "model.con1 = Constraint(rule = amount)\n",
    "model.con2 = Constraint(rule = max_a)\n",
    "model.con3 = Constraint(rule = max_b)\n",
    "model.con4 = Constraint(rule = proportion)\n",
    "\n",
    "# Solução\n",
    "opt = SolverFactory('glpk', executable='/usr/bin/glpsol')\n",
    "opt.solve(model).write()\n",
    "print('\\n\\nSOLUÇÃO ÓTIMA')\n",
    "print('Investimento A:', model.a())\n",
    "print('Investimento B:', model.b())\n",
    "print('Rendimento:', model.obj())"
   ]
  }
 ],
 "metadata": {
  "kernelspec": {
   "display_name": "Python 3 (ipykernel)",
   "language": "python",
   "name": "python3"
  },
  "language_info": {
   "codemirror_mode": {
    "name": "ipython",
    "version": 3
   },
   "file_extension": ".py",
   "mimetype": "text/x-python",
   "name": "python",
   "nbconvert_exporter": "python",
   "pygments_lexer": "ipython3",
   "version": "3.8.10"
  }
 },
 "nbformat": 4,
 "nbformat_minor": 5
}
